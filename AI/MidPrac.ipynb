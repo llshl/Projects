{
 "cells": [
  {
   "cell_type": "code",
   "execution_count": 1,
   "metadata": {
    "scrolled": true
   },
   "outputs": [
    {
     "name": "stdout",
     "output_type": "stream",
     "text": [
      "683\n",
      "[[ 5 10  6 ...  4 10 10]\n",
      " [ 3  1  1 ...  1  1  1]\n",
      " [ 3  1  2 ...  2  1  1]\n",
      " ...\n",
      " [ 3  1  1 ...  1  1  1]\n",
      " [ 3  1  1 ...  1  1  1]\n",
      " [ 5  1  1 ...  3  1  1]]\n",
      "[ 5 10  6  1 10  4  4 10 10]\n"
     ]
    }
   ],
   "source": [
    "import numpy as np\n",
    "import matplotlib.pyplot as plt\n",
    "%matplotlib inline\n",
    "\n",
    "data=np.loadtxt(fname=\"Breast_cancer_data.txt\")\n",
    "\n",
    "X=data[:,:9]\n",
    "T=data[:,9]\n",
    "X=X.astype(int)\n",
    "T=T.astype(int)\n",
    "\n",
    "X_n=data.shape[0]\n",
    "\n",
    "print(X_n)\n",
    "print(X)\n",
    "print(X[0]) "
   ]
  },
  {
   "cell_type": "code",
   "execution_count": 2,
   "metadata": {
    "scrolled": true
   },
   "outputs": [
    {
     "name": "stdout",
     "output_type": "stream",
     "text": [
      "[0.9987706  0.99999863 0.9999546  0.98901306 0.9999925  0.99592986\n",
      " 0.9900482  0.99999695 0.99999545]\n"
     ]
    }
   ],
   "source": [
    "def logistic(x,w):   \n",
    "    y1=1/(1+np.exp(-(w[0]*x[0] + w[1]*x[1] + w[2]*x[2] + w[3]*x[3] +  w[4]*x[4] + w[5]*x[5] + w[6]*x[6] + w[7]*x[7] + w[8]*x[8]+w[9])))\n",
    "          \n",
    "          \n",
    "    return y1\n",
    "\n",
    "\n",
    "W=[1,0,0.5,0,-1,0,0.4,0,0,0]\n",
    "# W=W.astype(int)\n",
    "pp=logistic(X,W)  \n",
    "print(pp)            "
   ]
  },
  {
   "cell_type": "code",
   "execution_count": 3,
   "metadata": {},
   "outputs": [
    {
     "data": {
      "text/plain": [
       "2.353799626149109e-06"
      ]
     },
     "execution_count": 3,
     "metadata": {},
     "output_type": "execute_result"
    }
   ],
   "source": [
    "def cee_logistic(w,x,t):   \n",
    "    y=logistic(x,w)\n",
    "    cee=0\n",
    "    for n in range(len(y)):  \n",
    "        cee=cee-(t[n]*np.log(y[n])+(1-t[n])*np.log(1-y[n]))\n",
    "    cee=cee/X_n\n",
    "    return cee\n",
    "#1,0,0.5,0,-1,0,0.4,0,0,0\n",
    "#-2.27939392 , 0.25030328 , 0.89458987 , 0.64590032 , -0.55887856 , 2.21174359 , -1.7981906 , 0.88993109 , 0.9867008 , -0.02873069\n",
    "W=[-2.27939392 , 0.25030328 , 0.89458987 , 0.64590032 , -0.55887856 , 2.21174359 , -1.7981906 , 0.88993109 , 0.9867008 , -0.02873069]\n",
    "cee_logistic(W,X,T)\n"
   ]
  },
  {
   "cell_type": "code",
   "execution_count": 4,
   "metadata": {
    "scrolled": true
   },
   "outputs": [
    {
     "data": {
      "text/plain": [
       "array([0.06870621, 0.01020678, 0.01165628, 0.01016932, 0.01019221,\n",
       "       0.04952295, 0.07587051, 0.01309747, 0.01017584, 0.00874627])"
      ]
     },
     "execution_count": 4,
     "metadata": {},
     "output_type": "execute_result"
    }
   ],
   "source": [
    "def dcee_logistic(w,x,t):   #기울기구하는함수  기울기를 구하는 함수를 정의하고 다음칸에서 사용하는 미니마이즈의 인수로 넣어줘야하기때문\n",
    "    y=logistic(x,w)\n",
    "    dcee=np.zeros(10)\n",
    "    for n in range(len(y)):\n",
    "        dcee[0]=dcee[0]+(y[n]-t[n])*x[0][n]\n",
    "        dcee[1]=dcee[1]+(y[n]-t[n])*x[1][n]\n",
    "        dcee[2]=dcee[2]+(y[n]-t[n])*x[2][n]\n",
    "        dcee[3]=dcee[3]+(y[n]-t[n])*x[3][n]\n",
    "        dcee[4]=dcee[4]+(y[n]-t[n])*x[4][n]\n",
    "        dcee[5]=dcee[5]+(y[n]-t[n])*x[5][n]\n",
    "        dcee[6]=dcee[6]+(y[n]-t[n])*x[6][n]\n",
    "        dcee[7]=dcee[7]+(y[n]-t[n])*x[7][n]\n",
    "        dcee[8]=dcee[8]+(y[n]-t[n])*x[8][n]\n",
    "        dcee[9]=dcee[9]+(y[n]-t[n])\n",
    "    dcee=dcee/X_n\n",
    "    return dcee\n",
    "\n",
    "W=[1,0,0.5,0,-1,0,0.4,0,0,0]  \n",
    "dcee_logistic(W,X,T)\n",
    "        "
   ]
  },
  {
   "cell_type": "code",
   "execution_count": 5,
   "metadata": {},
   "outputs": [
    {
     "name": "stdout",
     "output_type": "stream",
     "text": [
      "[-2.27939392  0.25030328  0.89458987  0.64590032 -0.55887856  2.21174359\n",
      " -1.7981906   0.88993109  0.9867008  -0.02873069]\n"
     ]
    }
   ],
   "source": [
    "from scipy.optimize import minimize\n",
    "\n",
    "def fit_logistic(w_init,x,t):\n",
    "    res1=minimize(cee_logistic,w_init,args=(x,t),jac=dcee_logistic,method=\"CG\")\n",
    "    #미니마이즈(최적화할놈, 초깃값, w에대해서 최적화, 기울기구하는함수, 경사하강법사용)의 구성이다\n",
    "    #cee_logistic을 최소화한다, x와t는 제외 w에 대해서만 최소화. jac는 기울기를구하는방법\n",
    "    #CG는 Conjugate Gradient\n",
    "    return res1.x\n",
    "\n",
    "\n",
    "W_init=[1,0,0.5,0,-1,0,0.4,0,0,0]\n",
    "W=fit_logistic(W_init,X,T)\n",
    "print(W)\n",
    "\n"
   ]
  },
  {
   "cell_type": "code",
   "execution_count": 6,
   "metadata": {},
   "outputs": [
    {
     "name": "stdout",
     "output_type": "stream",
     "text": [
      "Student ID: 2016146036\n",
      "W= [-2.27939392  0.25030328  0.89458987  0.64590032 -0.55887856  2.21174359\n",
      " -1.7981906   0.88993109  0.9867008  -0.02873069]\n",
      "No. \t Y \t T\n",
      "-------------------\n",
      "0 \t 0 \t 0\n",
      "1 \t 1 \t 0\n",
      "2 \t 1 \t 0\n",
      "3 \t 1 \t 0\n",
      "4 \t 1 \t 1\n",
      "5 \t 0 \t 0\n",
      "6 \t 0 \t 1\n",
      "7 \t 1 \t 1\n",
      "8 \t 0 \t 0\n",
      "9 \t 1 \t 0\n",
      "-------------------\n",
      "Total error : 5 out of 10\n",
      "Hit ratio : 50.0 %\n"
     ]
    },
    {
     "data": {
      "text/plain": [
       "50.0"
      ]
     },
     "execution_count": 6,
     "metadata": {},
     "output_type": "execute_result"
    }
   ],
   "source": [
    "def validate_model(w):\n",
    "    d=np.loadtxt(fname=\"Sample_test_data.txt\")\n",
    "    X=d[:,:9].astype(int)\n",
    "    T=d[:,9].astype(int)\n",
    "    \n",
    "    N=X.shape[0]\n",
    "    \n",
    "    y=np.zeros(N)\n",
    "    decision=np.zeros(N).astype(int)\n",
    "    err_cnt=0\n",
    "    \n",
    "    print('No. \\t Y \\t T')\n",
    "    print(\"-------------------\")\n",
    "    for i in range(N):\n",
    "        x=np.r_[X[i,:],1]\n",
    "        u=np.array(w).dot(x)\n",
    "        y[i]=1/(1+np.exp(-u))\n",
    "        if y[i]<0.5:\n",
    "            decision[i]=1\n",
    "        \n",
    "        if decision[i] !=T[i]:\n",
    "            err_cnt=err_cnt+1\n",
    "            \n",
    "        print(\"{0} \\t {1} \\t {2}\".format(i,decision[i],T[i]))\n",
    "        \n",
    "    hit_ratio=np.round((1-err_cnt/N)*100,1)\n",
    "    \n",
    "    print(\"-------------------\")\n",
    "    print(\"Total error : {0} out of {1}\".format(err_cnt,N))\n",
    "    print(\"Hit ratio : {0:.1f} %\".format(hit_ratio))\n",
    "    \n",
    "    return hit_ratio\n",
    "\n",
    "StudentID='2016146036'\n",
    "W=np.loadtxt(fname=StudentID+\".txt\")\n",
    "\n",
    "print(\"Student ID: \"+ StudentID)\n",
    "print(\"W= \"+np.str(W))\n",
    "\n",
    "validate_model(W)"
   ]
  },
  {
   "cell_type": "code",
   "execution_count": 7,
   "metadata": {},
   "outputs": [
    {
     "ename": "ValueError",
     "evalue": "setting an array element with a sequence.",
     "output_type": "error",
     "traceback": [
      "\u001b[1;31m---------------------------------------------------------------------------\u001b[0m",
      "\u001b[1;31mTypeError\u001b[0m                                 Traceback (most recent call last)",
      "\u001b[1;31mTypeError\u001b[0m: only size-1 arrays can be converted to Python scalars",
      "\nThe above exception was the direct cause of the following exception:\n",
      "\u001b[1;31mValueError\u001b[0m                                Traceback (most recent call last)",
      "\u001b[1;32m<ipython-input-7-30454e6398de>\u001b[0m in \u001b[0;36m<module>\u001b[1;34m\u001b[0m\n\u001b[0;32m     17\u001b[0m \u001b[0mK\u001b[0m\u001b[1;33m=\u001b[0m\u001b[1;36m11\u001b[0m\u001b[1;33m\u001b[0m\u001b[1;33m\u001b[0m\u001b[0m\n\u001b[0;32m     18\u001b[0m \u001b[1;33m\u001b[0m\u001b[0m\n\u001b[1;32m---> 19\u001b[1;33m \u001b[0mCv_A_train\u001b[0m\u001b[1;33m,\u001b[0m \u001b[0mCv_A_test\u001b[0m \u001b[1;33m=\u001b[0m \u001b[0mkfold_model_A\u001b[0m\u001b[1;33m(\u001b[0m\u001b[0mX\u001b[0m\u001b[1;33m,\u001b[0m\u001b[0mT\u001b[0m\u001b[1;33m,\u001b[0m\u001b[0mK\u001b[0m\u001b[1;33m)\u001b[0m\u001b[1;33m\u001b[0m\u001b[1;33m\u001b[0m\u001b[0m\n\u001b[0m\u001b[0;32m     20\u001b[0m \u001b[0mmean_A_test\u001b[0m\u001b[1;33m=\u001b[0m\u001b[0mnp\u001b[0m\u001b[1;33m.\u001b[0m\u001b[0msqrt\u001b[0m\u001b[1;33m(\u001b[0m\u001b[0mnp\u001b[0m\u001b[1;33m.\u001b[0m\u001b[0mmean\u001b[0m\u001b[1;33m(\u001b[0m\u001b[0mCv_A_test\u001b[0m\u001b[1;33m)\u001b[0m\u001b[1;33m)\u001b[0m  \u001b[1;31m#평균오차\u001b[0m\u001b[1;33m\u001b[0m\u001b[1;33m\u001b[0m\u001b[0m\n\u001b[0;32m     21\u001b[0m \u001b[1;33m\u001b[0m\u001b[0m\n",
      "\u001b[1;32m<ipython-input-7-30454e6398de>\u001b[0m in \u001b[0;36mkfold_model_A\u001b[1;34m(x, t, k)\u001b[0m\n\u001b[0;32m     11\u001b[0m \u001b[1;33m\u001b[0m\u001b[0m\n\u001b[0;32m     12\u001b[0m         \u001b[0mwm\u001b[0m\u001b[1;33m=\u001b[0m\u001b[0mfit_logistic\u001b[0m\u001b[1;33m(\u001b[0m\u001b[0mnp\u001b[0m\u001b[1;33m.\u001b[0m\u001b[0marray\u001b[0m\u001b[1;33m(\u001b[0m\u001b[1;33m[\u001b[0m\u001b[1;36m1\u001b[0m\u001b[1;33m,\u001b[0m\u001b[1;36m0\u001b[0m\u001b[1;33m,\u001b[0m\u001b[1;36m0.5\u001b[0m\u001b[1;33m,\u001b[0m\u001b[1;36m0\u001b[0m\u001b[1;33m,\u001b[0m\u001b[1;33m-\u001b[0m\u001b[1;36m1\u001b[0m\u001b[1;33m,\u001b[0m\u001b[1;36m0\u001b[0m\u001b[1;33m,\u001b[0m\u001b[1;36m0.4\u001b[0m\u001b[1;33m,\u001b[0m\u001b[1;36m0\u001b[0m\u001b[1;33m,\u001b[0m\u001b[1;36m0\u001b[0m\u001b[1;33m,\u001b[0m\u001b[1;36m0\u001b[0m\u001b[1;33m]\u001b[0m\u001b[1;33m)\u001b[0m\u001b[1;33m,\u001b[0m\u001b[0mx\u001b[0m\u001b[1;33m,\u001b[0m\u001b[0mt\u001b[0m\u001b[1;33m)\u001b[0m\u001b[1;33m\u001b[0m\u001b[1;33m\u001b[0m\u001b[0m\n\u001b[1;32m---> 13\u001b[1;33m         \u001b[0mcee_train\u001b[0m\u001b[1;33m[\u001b[0m\u001b[0mi\u001b[0m\u001b[1;33m]\u001b[0m\u001b[1;33m=\u001b[0m\u001b[0mlogistic\u001b[0m\u001b[1;33m(\u001b[0m\u001b[0mx_train\u001b[0m\u001b[1;33m,\u001b[0m\u001b[0mt_train\u001b[0m\u001b[1;33m)\u001b[0m\u001b[1;33m\u001b[0m\u001b[1;33m\u001b[0m\u001b[0m\n\u001b[0m\u001b[0;32m     14\u001b[0m         \u001b[0mcee_test\u001b[0m\u001b[1;33m[\u001b[0m\u001b[0mi\u001b[0m\u001b[1;33m]\u001b[0m\u001b[1;33m=\u001b[0m\u001b[0mlogistic\u001b[0m\u001b[1;33m(\u001b[0m\u001b[0mx_test\u001b[0m\u001b[1;33m,\u001b[0m\u001b[0mt_test\u001b[0m\u001b[1;33m)\u001b[0m\u001b[1;33m\u001b[0m\u001b[1;33m\u001b[0m\u001b[0m\n\u001b[0;32m     15\u001b[0m     \u001b[1;32mreturn\u001b[0m \u001b[0mcee_train\u001b[0m\u001b[1;33m,\u001b[0m \u001b[0mcee_test\u001b[0m\u001b[1;33m\u001b[0m\u001b[1;33m\u001b[0m\u001b[0m\n",
      "\u001b[1;31mValueError\u001b[0m: setting an array element with a sequence."
     ]
    }
   ],
   "source": [
    "def kfold_model_A(x,t,k):\n",
    "    n=len(x)\n",
    "    cee_train=np.zeros(k)\n",
    "    cee_test=np.zeros(k)\n",
    "    \n",
    "    for i in range(0,k):\n",
    "        x_train=x[np.fmod(range(n),k)!=i] \n",
    "        t_train=t[np.fmod(range(n),k)!=i]  \n",
    "        x_test=x[np.fmod(range(n),k)==i]   \n",
    "        t_test=t[np.fmod(range(n),k)==i]\n",
    "        \n",
    "        wm=fit_logistic(np.array([1,0,0.5,0,-1,0,0.4,0,0,0]),x,t) \n",
    "        cee_train[i]=logistic(x_train,t_train)\n",
    "        cee_test[i]=logistic(x_test,t_test)\n",
    "    return cee_train, cee_test\n",
    "\n",
    "K=11\n",
    "\n",
    "Cv_A_train, Cv_A_test = kfold_model_A(X,T,K)\n",
    "mean_A_test=np.sqrt(np.mean(Cv_A_test))  #평균오차\n",
    "\n",
    "print(\"Gauss(M=3) SD={0:.2f} cm\".format(mean_gauss_test[1]))\n",
    "print(\"Model A SD={0:.2f} cm\".format(mean_A_test))\n",
    "\n",
    "SD=np.append(mean_gauss_test[0:5], mean_A_test)\n",
    "M=range(6)\n",
    "\n",
    "label=[\"M=2\", \"M=3\", \"M=4\", \"M=5\", \"M=6\", \"Model A\"]\n",
    "\n",
    "plt.figure(figsize=(8,5))\n",
    "plt.bar(M,SD,tick_label=label, align=\"center\", facecolor=\"cornflowerblue\")\n",
    "#plt.bar(xy) 막대그래프만들어줌\n",
    "#선형회귀모델과 비선형회귀모델과의 평균오차에 대한 그래프\n",
    "#(선형회귀모델에서)M=3일때 오차가 6.51로 최저지만 비선형모델에선 4.72로 더 적다\n",
    "plt.grid(True)\n",
    "plt.show()"
   ]
  },
  {
   "cell_type": "code",
   "execution_count": null,
   "metadata": {},
   "outputs": [],
   "source": []
  }
 ],
 "metadata": {
  "kernelspec": {
   "display_name": "Python 3",
   "language": "python",
   "name": "python3"
  },
  "language_info": {
   "codemirror_mode": {
    "name": "ipython",
    "version": 3
   },
   "file_extension": ".py",
   "mimetype": "text/x-python",
   "name": "python",
   "nbconvert_exporter": "python",
   "pygments_lexer": "ipython3",
   "version": "3.7.6"
  }
 },
 "nbformat": 4,
 "nbformat_minor": 4
}
